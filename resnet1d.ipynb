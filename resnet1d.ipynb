{
 "cells": [
  {
   "cell_type": "code",
   "execution_count": 1,
   "metadata": {},
   "outputs": [],
   "source": [
    "import torch\n",
    "import numpy as np\n",
    "import pandas as pd\n",
    "from tqdm import tqdm\n",
    "from sklearn.model_selection import train_test_split\n",
    "from Custom_dataset import CustomDataset\n",
    "from resnet1d import ResNet1D"
   ]
  },
  {
   "cell_type": "code",
   "execution_count": 2,
   "metadata": {},
   "outputs": [],
   "source": [
    "adult_train = pd.read_csv('./dataset/ECG_adult_age_train.csv')\n",
    "child_train = pd.read_csv('./dataset/ECG_child_age_train.csv')"
   ]
  },
  {
   "cell_type": "code",
   "execution_count": 3,
   "metadata": {},
   "outputs": [],
   "source": [
    "adult_file_path = './dataset/ECG_adult_numpy_train/'\n",
    "child_file_path = './dataset/ECG_child_numpy_train/'"
   ]
  },
  {
   "cell_type": "code",
   "execution_count": 19,
   "metadata": {},
   "outputs": [
    {
     "data": {
      "text/plain": [
       "0        53\n",
       "1        68\n",
       "2        68\n",
       "3        89\n",
       "4        79\n",
       "         ..\n",
       "34902    19\n",
       "34903    63\n",
       "34904    60\n",
       "34905    60\n",
       "34906    53\n",
       "Name: AGE, Length: 34907, dtype: int64"
      ]
     },
     "execution_count": 19,
     "metadata": {},
     "output_type": "execute_result"
    }
   ],
   "source": [
    "adult_train.AGE"
   ]
  },
  {
   "cell_type": "code",
   "execution_count": 4,
   "metadata": {},
   "outputs": [],
   "source": [
    "adult_train_data, adult_valid_data = train_test_split(adult_train,shuffle=True, random_state=42, test_size=0.1)\n",
    "adult_train_data.reset_index(inplace=True,drop=True)\n",
    "adult_valid_data.reset_index(inplace=True,drop=True)"
   ]
  },
  {
   "cell_type": "code",
   "execution_count": 5,
   "metadata": {},
   "outputs": [],
   "source": [
    "adult_train_dataset = CustomDataset(adult_file_path,adult_train_data)\n",
    "adult_valid_dataset = CustomDataset(adult_file_path,adult_valid_data)\n",
    "child_dataset = CustomDataset(child_file_path,child_train)"
   ]
  },
  {
   "cell_type": "code",
   "execution_count": 6,
   "metadata": {},
   "outputs": [],
   "source": [
    "train_adult_loader = torch.utils.data.DataLoader(adult_train_dataset, batch_size = 64)\n",
    "valid_adult_loader = torch.utils.data.DataLoader(adult_valid_dataset, batch_size = 64)"
   ]
  },
  {
   "cell_type": "code",
   "execution_count": 7,
   "metadata": {},
   "outputs": [],
   "source": [
    "kernel_size = 16\n",
    "stride = 2\n",
    "n_block = 48\n",
    "downsample_gap = 6\n",
    "increasefilter_gap = 12"
   ]
  },
  {
   "cell_type": "code",
   "execution_count": 8,
   "metadata": {},
   "outputs": [
    {
     "name": "stdout",
     "output_type": "stream",
     "text": [
      "model_ready\n"
     ]
    }
   ],
   "source": [
    "model = ResNet1D(\n",
    "    in_channels=1,\n",
    "    base_filters=64, # 64 for ResNet1D, 352 for ResNeXt1D\n",
    "    kernel_size=kernel_size,\n",
    "    stride=stride, \n",
    "    groups=32, \n",
    "    n_block=n_block, \n",
    "    n_classes=1, \n",
    "    downsample_gap=downsample_gap,\n",
    "    increasefilter_gap=increasefilter_gap, \n",
    "    use_do=True)\n",
    "model.to('cuda')\n",
    "print('model_ready')\n",
    "#criterion = torch.nn.MSELoss()\n",
    "criterion = torch.nn.SmoothL1Loss()\n",
    "\n",
    "optimizer = torch.optim.Adam(params=model.parameters(),lr = 1e-3)\n",
    "scheduler = torch.optim.lr_scheduler.ReduceLROnPlateau(optimizer=optimizer, mode='min', min_lr = 1e-5, patience=2)\n",
    "#scheduler = torch.optim.lr_scheduler.CosineAnnealingLR(optimizer=optimizer, T_max= 20, eta_min=1e-5)\n",
    "scaler = torch.cuda.amp.GradScaler()"
   ]
  },
  {
   "cell_type": "code",
   "execution_count": 10,
   "metadata": {},
   "outputs": [
    {
     "name": "stdout",
     "output_type": "stream",
     "text": [
      "train_run\n"
     ]
    },
    {
     "name": "stderr",
     "output_type": "stream",
     "text": [
      "  0%|          | 0/491 [00:00<?, ?it/s]C:\\Users\\SNUH벤처\\AppData\\Local\\Temp\\ipykernel_18364\\485264190.py:5: UserWarning: To copy construct from a tensor, it is recommended to use sourceTensor.clone().detach() or sourceTensor.clone().detach().requires_grad_(True), rather than torch.tensor(sourceTensor).\n",
      "  label = torch.tensor(batch[2],dtype=torch.float32).to('cuda')\n",
      "C:\\Users\\SNUH벤처\\AppData\\Local\\Temp\\ipykernel_18364\\485264190.py:7: UserWarning: To copy construct from a tensor, it is recommended to use sourceTensor.clone().detach() or sourceTensor.clone().detach().requires_grad_(True), rather than torch.tensor(sourceTensor).\n",
      "  output = model(torch.tensor(inputs, dtype = torch.float32))\n",
      "c:\\Anaconda\\envs\\colon\\lib\\site-packages\\torch\\nn\\modules\\loss.py:928: UserWarning: Using a target size (torch.Size([64])) that is different to the input size (torch.Size([64, 1])). This will likely lead to incorrect results due to broadcasting. Please ensure they have the same size.\n",
      "  return F.smooth_l1_loss(input, target, reduction=self.reduction, beta=self.beta)\n",
      "100%|█████████▉| 490/491 [02:15<00:00,  3.68it/s]c:\\Anaconda\\envs\\colon\\lib\\site-packages\\torch\\nn\\modules\\loss.py:928: UserWarning: Using a target size (torch.Size([56])) that is different to the input size (torch.Size([56, 1])). This will likely lead to incorrect results due to broadcasting. Please ensure they have the same size.\n",
      "  return F.smooth_l1_loss(input, target, reduction=self.reduction, beta=self.beta)\n",
      "100%|██████████| 491/491 [02:15<00:00,  3.63it/s]\n"
     ]
    },
    {
     "name": "stdout",
     "output_type": "stream",
     "text": [
      "valid_run\n"
     ]
    },
    {
     "name": "stderr",
     "output_type": "stream",
     "text": [
      "  0%|          | 0/55 [00:00<?, ?it/s]C:\\Users\\SNUH벤처\\AppData\\Local\\Temp\\ipykernel_18364\\485264190.py:19: UserWarning: To copy construct from a tensor, it is recommended to use sourceTensor.clone().detach() or sourceTensor.clone().detach().requires_grad_(True), rather than torch.tensor(sourceTensor).\n",
      "  label = torch.tensor(batch[2],dtype=torch.float32).to('cuda')\n",
      "C:\\Users\\SNUH벤처\\AppData\\Local\\Temp\\ipykernel_18364\\485264190.py:21: UserWarning: To copy construct from a tensor, it is recommended to use sourceTensor.clone().detach() or sourceTensor.clone().detach().requires_grad_(True), rather than torch.tensor(sourceTensor).\n",
      "  output = model(torch.tensor(inputs, dtype = torch.float32))\n",
      " 98%|█████████▊| 54/55 [00:06<00:00,  7.76it/s]c:\\Anaconda\\envs\\colon\\lib\\site-packages\\torch\\nn\\modules\\loss.py:928: UserWarning: Using a target size (torch.Size([35])) that is different to the input size (torch.Size([35, 1])). This will likely lead to incorrect results due to broadcasting. Please ensure they have the same size.\n",
      "  return F.smooth_l1_loss(input, target, reduction=self.reduction, beta=self.beta)\n",
      "100%|██████████| 55/55 [00:07<00:00,  7.81it/s]\n"
     ]
    },
    {
     "name": "stdout",
     "output_type": "stream",
     "text": [
      "tensor(12.5530, device='cuda:0')\n",
      "train_run\n"
     ]
    },
    {
     "name": "stderr",
     "output_type": "stream",
     "text": [
      "100%|██████████| 491/491 [02:09<00:00,  3.79it/s]\n"
     ]
    },
    {
     "name": "stdout",
     "output_type": "stream",
     "text": [
      "valid_run\n"
     ]
    },
    {
     "name": "stderr",
     "output_type": "stream",
     "text": [
      "100%|██████████| 55/55 [00:07<00:00,  7.84it/s]\n"
     ]
    },
    {
     "name": "stdout",
     "output_type": "stream",
     "text": [
      "tensor(12.5095, device='cuda:0')\n",
      "train_run\n"
     ]
    },
    {
     "name": "stderr",
     "output_type": "stream",
     "text": [
      "100%|██████████| 491/491 [02:07<00:00,  3.84it/s]\n"
     ]
    },
    {
     "name": "stdout",
     "output_type": "stream",
     "text": [
      "valid_run\n"
     ]
    },
    {
     "name": "stderr",
     "output_type": "stream",
     "text": [
      "100%|██████████| 55/55 [00:06<00:00,  8.23it/s]\n"
     ]
    },
    {
     "name": "stdout",
     "output_type": "stream",
     "text": [
      "tensor(12.4993, device='cuda:0')\n",
      "train_run\n"
     ]
    },
    {
     "name": "stderr",
     "output_type": "stream",
     "text": [
      "100%|██████████| 491/491 [02:09<00:00,  3.80it/s]\n"
     ]
    },
    {
     "name": "stdout",
     "output_type": "stream",
     "text": [
      "valid_run\n"
     ]
    },
    {
     "name": "stderr",
     "output_type": "stream",
     "text": [
      "100%|██████████| 55/55 [00:07<00:00,  7.63it/s]\n"
     ]
    },
    {
     "name": "stdout",
     "output_type": "stream",
     "text": [
      "tensor(12.4951, device='cuda:0')\n",
      "train_run\n"
     ]
    },
    {
     "name": "stderr",
     "output_type": "stream",
     "text": [
      "100%|██████████| 491/491 [02:06<00:00,  3.88it/s]\n"
     ]
    },
    {
     "name": "stdout",
     "output_type": "stream",
     "text": [
      "valid_run\n"
     ]
    },
    {
     "name": "stderr",
     "output_type": "stream",
     "text": [
      "100%|██████████| 55/55 [00:06<00:00,  8.16it/s]"
     ]
    },
    {
     "name": "stdout",
     "output_type": "stream",
     "text": [
      "tensor(12.4927, device='cuda:0')\n"
     ]
    },
    {
     "name": "stderr",
     "output_type": "stream",
     "text": [
      "\n"
     ]
    }
   ],
   "source": [
    "for epochs in range(5):\n",
    "    print('train_run')\n",
    "    for batch in tqdm(train_adult_loader):\n",
    "        inputs = batch[1]['I'].view(-1,1,5000).to('cuda')\n",
    "        label = torch.tensor(batch[2],dtype=torch.float32).to('cuda')\n",
    "        with torch.cuda.amp.autocast():\n",
    "            output = model(torch.tensor(inputs, dtype = torch.float32))\n",
    "            loss = criterion(output, label)\n",
    "        scaler.scale(loss).backward()\n",
    "        scaler.step(optimizer)\n",
    "        scaler.update()\n",
    "        optimizer.zero_grad()\n",
    "\n",
    "\n",
    "    valid_loss = 0\n",
    "    print('valid_run')\n",
    "    for batch in tqdm(valid_adult_loader):\n",
    "        inputs = batch[1]['I'].view(-1,1,5000).to('cuda')\n",
    "        label = torch.tensor(batch[2],dtype=torch.float32).to('cuda')\n",
    "        with torch.no_grad():\n",
    "            output = model(torch.tensor(inputs, dtype = torch.float32))\n",
    "        loss = criterion(output, label)\n",
    "        valid_loss += loss\n",
    "    loss_check = valid_loss/len(valid_adult_loader)\n",
    "    print(loss_check)\n",
    "    scheduler.step(loss_check)"
   ]
  },
  {
   "cell_type": "code",
   "execution_count": 12,
   "metadata": {},
   "outputs": [
    {
     "name": "stderr",
     "output_type": "stream",
     "text": [
      "  0%|          | 0/55 [00:00<?, ?it/s]"
     ]
    },
    {
     "name": "stderr",
     "output_type": "stream",
     "text": [
      "C:\\Users\\SNUH벤처\\AppData\\Local\\Temp\\ipykernel_18364\\616708737.py:5: UserWarning: To copy construct from a tensor, it is recommended to use sourceTensor.clone().detach() or sourceTensor.clone().detach().requires_grad_(True), rather than torch.tensor(sourceTensor).\n",
      "  label = torch.tensor(batch[2],dtype=torch.float32).to('cuda')\n",
      "C:\\Users\\SNUH벤처\\AppData\\Local\\Temp\\ipykernel_18364\\616708737.py:7: UserWarning: To copy construct from a tensor, it is recommended to use sourceTensor.clone().detach() or sourceTensor.clone().detach().requires_grad_(True), rather than torch.tensor(sourceTensor).\n",
      "  output = model(torch.tensor(inputs, dtype = torch.float32))\n",
      "100%|██████████| 55/55 [00:09<00:00,  6.09it/s]\n"
     ]
    }
   ],
   "source": [
    "pred = []\n",
    "labels = []\n",
    "for batch in tqdm(valid_adult_loader):\n",
    "    inputs = batch[1]['I'].view(-1,1,5000).to('cuda')\n",
    "    label = torch.tensor(batch[2],dtype=torch.float32).to('cuda')\n",
    "    with torch.no_grad():\n",
    "        output = model(torch.tensor(inputs, dtype = torch.float32))\n",
    "    pred += output.detach().cpu().tolist()\n",
    "    labels += label.detach().cpu().tolist()"
   ]
  },
  {
   "cell_type": "code",
   "execution_count": null,
   "metadata": {},
   "outputs": [],
   "source": []
  }
 ],
 "metadata": {
  "kernelspec": {
   "display_name": "colon",
   "language": "python",
   "name": "python3"
  },
  "language_info": {
   "codemirror_mode": {
    "name": "ipython",
    "version": 3
   },
   "file_extension": ".py",
   "mimetype": "text/x-python",
   "name": "python",
   "nbconvert_exporter": "python",
   "pygments_lexer": "ipython3",
   "version": "3.9.16"
  },
  "orig_nbformat": 4
 },
 "nbformat": 4,
 "nbformat_minor": 2
}
