{
 "cells": [
  {
   "cell_type": "code",
   "execution_count": 4,
   "metadata": {},
   "outputs": [],
   "source": [
    "import torch\n",
    "import numpy as np\n",
    "import pandas as pd\n",
    "from tqdm import tqdm\n",
    "from sklearn.model_selection import train_test_split\n",
    "from Custom_dataset import CustomDataset"
   ]
  },
  {
   "cell_type": "code",
   "execution_count": 2,
   "metadata": {},
   "outputs": [],
   "source": [
    "adult_train = pd.read_csv('./dataset/ECG_adult_age_train.csv')\n",
    "child_train = pd.read_csv('./dataset/ECG_child_age_train.csv')"
   ]
  },
  {
   "cell_type": "code",
   "execution_count": 5,
   "metadata": {},
   "outputs": [],
   "source": [
    "adult_file_path = './dataset/ECG_adult_numpy_train/'\n",
    "child_file_path = './dataset/ECG_child_numpy_train/'"
   ]
  },
  {
   "cell_type": "code",
   "execution_count": 4,
   "metadata": {},
   "outputs": [],
   "source": [
    "adult_train['seped_AGE'] = adult_train['AGE'].apply(lambda x : int(x//10))\n",
    "adult_train.loc[adult_train['seped_AGE'] >= 9,'seped_AGE'] = 8\n",
    "adult_train.loc[adult_train['seped_AGE'] <= 1,'seped_AGE'] = 2\n",
    "sampled_df = adult_train.groupby('seped_AGE').apply(lambda x: x.sample(n = 2000, random_state=42)).reset_index(drop=True)\n",
    "sampled_df.drop('seped_AGE',axis=1,inplace=True)"
   ]
  },
  {
   "cell_type": "code",
   "execution_count": 5,
   "metadata": {},
   "outputs": [],
   "source": [
    "adult_train_data, adult_valid_data = train_test_split(sampled_df,shuffle=True, random_state=42, test_size=0.1)\n",
    "adult_train_data.reset_index(inplace=True,drop=True)\n",
    "adult_valid_data.reset_index(inplace=True,drop=True)"
   ]
  },
  {
   "cell_type": "code",
   "execution_count": 6,
   "metadata": {},
   "outputs": [],
   "source": [
    "# adult_train_data, adult_valid_data = train_test_split(adult_train,shuffle=True, random_state=42, test_size=0.1)\n",
    "# adult_train_data.reset_index(inplace=True,drop=True)\n",
    "# adult_valid_data.reset_index(inplace=True,drop=True)"
   ]
  },
  {
   "cell_type": "code",
   "execution_count": 7,
   "metadata": {},
   "outputs": [],
   "source": [
    "adult_train_dataset = CustomDataset(adult_file_path,adult_train_data)\n",
    "adult_valid_dataset = CustomDataset(adult_file_path,adult_valid_data)\n",
    "child_dataset = CustomDataset(child_file_path,child_train)"
   ]
  },
  {
   "cell_type": "code",
   "execution_count": 8,
   "metadata": {},
   "outputs": [],
   "source": [
    "train_adult_loader = torch.utils.data.DataLoader(adult_train_dataset, batch_size = 64, shuffle=True)\n",
    "valid_adult_loader = torch.utils.data.DataLoader(adult_valid_dataset, batch_size = 64, shuffle=True)"
   ]
  },
  {
   "cell_type": "code",
   "execution_count": 15,
   "metadata": {},
   "outputs": [
    {
     "name": "stdout",
     "output_type": "stream",
     "text": [
      "model_ready\n"
     ]
    },
    {
     "name": "stderr",
     "output_type": "stream",
     "text": [
      "c:\\Anaconda\\envs\\colon\\lib\\site-packages\\torch\\nn\\modules\\lazy.py:180: UserWarning: Lazy modules are a new feature under heavy development so changes to the API or functionality can happen at any moment.\n",
      "  warnings.warn('Lazy modules are a new feature under heavy development '\n"
     ]
    }
   ],
   "source": [
    "import torch\n",
    "import torch.nn as nn\n",
    "\n",
    "class Temporalblock(torch.nn.Module):\n",
    "    def __init__(self, N, K, MP_factor):\n",
    "        super().__init__()\n",
    "\n",
    "        self.conv_layers = torch.nn.LazyConv1d(N, K)#, padding = 'same'\n",
    "        self.batchnorm_layers = torch.nn.BatchNorm1d(N)\n",
    "        self.relu = nn.ReLU()\n",
    "        self.maxpool = nn.MaxPool1d(kernel_size=MP_factor, stride=MP_factor)\n",
    "\n",
    "    def forward(self, x):\n",
    "        x = self.conv_layers(x)\n",
    "        x = self.batchnorm_layers(x)\n",
    "        x = self.relu(x)\n",
    "        x = self.maxpool(x)\n",
    "        return x\n",
    "\n",
    "class FCblock(torch.nn.Module):\n",
    "    def __init__(self, N, dropout):\n",
    "        super().__init__()\n",
    "        self.linear = torch.nn.LazyLinear(N)\n",
    "        self.batchnorm_layers = torch.nn.BatchNorm1d(N)\n",
    "        self.relu = torch.nn.ReLU()\n",
    "        self.dropout = torch.nn.Dropout(dropout)\n",
    "    \n",
    "    def forward(self, x):\n",
    "        x = self.linear(x)\n",
    "        x = self.batchnorm_layers(x)\n",
    "        x = self.relu(x)\n",
    "        x = self.dropout(x)\n",
    "        return x\n",
    "\n",
    "class spatial_block(torch.nn.Module):\n",
    "    def __init__(self,N, K, MP_factor):\n",
    "        super().__init__()\n",
    "        self.conv_layers = torch.nn.LazyConv1d(N, K, )#padding='same'\n",
    "        self.batchnorm_layer = torch.nn.BatchNorm1d(N)\n",
    "        self.relu = torch.nn.ReLU()\n",
    "        self.maxpool = torch.nn.MaxPool1d(kernel_size=MP_factor, stride=MP_factor)\n",
    "\n",
    "    def forward(self, x):\n",
    "#        x = x.transpose(1,2)\n",
    "        x = self.conv_layers(x)\n",
    "        x = self.batchnorm_layer(x)\n",
    "        x = self.relu(x)\n",
    "        x = self.maxpool(x)\n",
    "        return x\n",
    "    \n",
    "class Custom_model(torch.nn.Module):\n",
    "    def __init__(self,N, K, MP_factor):\n",
    "        super().__init__()\n",
    "        self.first_block = Temporalblock(16, 7, 2)\n",
    "        self.temporal_block = self._make_layer(N, K, MP_factor)\n",
    "        self.spatial_block = spatial_block(128, 1, 2)\n",
    "        self.flatten = torch.nn.Flatten()\n",
    "        self.fc1 = FCblock(128, 0.5)\n",
    "        self.fc2 = FCblock(64, 0.5)\n",
    "\n",
    "        self.linear_out = torch.nn.Linear(64,1)\n",
    "    def _make_layer(self, N, K, MP_factor):\n",
    "        layer = []\n",
    "        for n, k, mp in zip(N, K, MP_factor):\n",
    "            layer.append(Temporalblock(n, k, mp))\n",
    "        return torch.nn.Sequential(*layer)\n",
    "    \n",
    "    def forward(self,x):\n",
    "        x = self.first_block(x)\n",
    "        x = self.temporal_block(x)\n",
    "        x = self.spatial_block(x)\n",
    "        x = self.flatten(x)\n",
    "        x = self.fc1(x)\n",
    "        x = self.fc2(x)\n",
    "        x = self.linear_out(x)\n",
    "\n",
    "        return x\n",
    "\n",
    "N = (16,32,32,64,64,64,64)\n",
    "K = (5,5,5,5,3,3,3)\n",
    "MP_factor = (4,2,4,2,2,2,2)\n",
    "model = Custom_model(N, K, MP_factor)\n",
    "model.to('cuda')\n",
    "print('model_ready')"
   ]
  },
  {
   "cell_type": "code",
   "execution_count": 16,
   "metadata": {},
   "outputs": [],
   "source": [
    "criterion = torch.nn.MSELoss()\n",
    "optimizer = torch.optim.Adam(params=model.parameters(),lr = 3e-4)\n",
    "#scheduler = torch.optim.lr_scheduler.ReduceLROnPlateau(optimizer=optimizer, mode='min', min_lr = 1e-5, patience=2)\n",
    "scheduler = torch.optim.lr_scheduler.CosineAnnealingLR(optimizer=optimizer, T_max= 20, eta_min=1e-5)"
   ]
  },
  {
   "cell_type": "code",
   "execution_count": 18,
   "metadata": {},
   "outputs": [
    {
     "name": "stdout",
     "output_type": "stream",
     "text": [
      "train_run\n"
     ]
    },
    {
     "name": "stderr",
     "output_type": "stream",
     "text": [
      "  0%|          | 0/197 [00:00<?, ?it/s]C:\\Users\\SNUH벤처\\AppData\\Local\\Temp\\ipykernel_3252\\2992640619.py:5: UserWarning: To copy construct from a tensor, it is recommended to use sourceTensor.clone().detach() or sourceTensor.clone().detach().requires_grad_(True), rather than torch.tensor(sourceTensor).\n",
      "  label = torch.tensor(batch[2],dtype=torch.float32).to('cuda')\n",
      "C:\\Users\\SNUH벤처\\AppData\\Local\\Temp\\ipykernel_3252\\2992640619.py:6: UserWarning: To copy construct from a tensor, it is recommended to use sourceTensor.clone().detach() or sourceTensor.clone().detach().requires_grad_(True), rather than torch.tensor(sourceTensor).\n",
      "  output = model(torch.tensor(inputs, dtype = torch.float32))\n",
      " 27%|██▋       | 53/197 [00:02<00:06, 22.88it/s]"
     ]
    },
    {
     "ename": "",
     "evalue": "",
     "output_type": "error",
     "traceback": [
      "\u001b[1;31m현재 셀 또는 이전 셀에서 코드를 실행하는 동안 Kernel이 충돌했습니다. 셀의 코드를 검토하여 오류의 가능한 원인을 식별하세요. 자세한 내용을 보려면 <a href='https://aka.ms/vscodeJupyterKernelCrash'> 여기 </a> 를 클릭하세요. 자세한 내용은 Jupyter <a href='command:jupyter.viewOutput'>로그</a>를 참조하세요."
     ]
    }
   ],
   "source": [
    "for epochs in range(50):\n",
    "    print('train_run')\n",
    "    for batch in tqdm(train_adult_loader):\n",
    "        inputs = batch[0].view(-1,12,5000).to('cuda')\n",
    "        label = torch.tensor(batch[2],dtype=torch.float32).to('cuda')\n",
    "        output = model(torch.tensor(inputs, dtype = torch.float32))\n",
    "        loss = criterion(output, label)\n",
    "        loss.backward()\n",
    "        optimizer.step()\n",
    "        optimizer.zero_grad()\n",
    "    valid_loss = 0\n",
    "    print('valid_run')\n",
    "    for batch in tqdm(valid_adult_loader):\n",
    "        inputs = batch[0].view(-1,12,5000).to('cuda')\n",
    "        label = torch.tensor(batch[2],dtype=torch.float32).to('cuda')\n",
    "        with torch.no_grad():\n",
    "            output = model(torch.tensor(inputs, dtype = torch.float32))\n",
    "        loss = criterion(output, label)\n",
    "        valid_loss += loss\n",
    "    loss_check = valid_loss/len(valid_adult_loader)\n",
    "    print(loss_check)\n",
    "    scheduler.step(loss_check)"
   ]
  },
  {
   "cell_type": "code",
   "execution_count": 12,
   "metadata": {},
   "outputs": [
    {
     "name": "stderr",
     "output_type": "stream",
     "text": [
      "  0%|          | 0/546 [00:00<?, ?it/s]C:\\Users\\SNUH벤처\\AppData\\Local\\Temp\\ipykernel_3252\\1917028487.py:8: UserWarning: To copy construct from a tensor, it is recommended to use sourceTensor.clone().detach() or sourceTensor.clone().detach().requires_grad_(True), rather than torch.tensor(sourceTensor).\n",
      "  label = torch.tensor(batch[2],dtype=torch.float32).to('cuda')\n",
      "C:\\Users\\SNUH벤처\\AppData\\Local\\Temp\\ipykernel_3252\\1917028487.py:10: UserWarning: To copy construct from a tensor, it is recommended to use sourceTensor.clone().detach() or sourceTensor.clone().detach().requires_grad_(True), rather than torch.tensor(sourceTensor).\n",
      "  output = model(torch.tensor(inputs, dtype = torch.float32))\n",
      "100%|██████████| 546/546 [00:27<00:00, 19.75it/s]\n"
     ]
    }
   ],
   "source": [
    "valid_dataset = CustomDataset(adult_file_path,adult_train)\n",
    "valid_loader = torch.utils.data.DataLoader(valid_dataset, batch_size = 64, shuffle=True)\n",
    "\n",
    "pred = []\n",
    "labels = []\n",
    "for batch in tqdm(valid_loader):\n",
    "    inputs = batch[0].view(-1,12,5000).to('cuda')\n",
    "    label = torch.tensor(batch[2],dtype=torch.float32).to('cuda')\n",
    "    with torch.no_grad():\n",
    "        output = model(torch.tensor(inputs, dtype = torch.float32))\n",
    "    pred += output.detach().cpu().tolist()\n",
    "    labels += label.detach().cpu().tolist()"
   ]
  },
  {
   "cell_type": "code",
   "execution_count": 13,
   "metadata": {},
   "outputs": [
    {
     "data": {
      "text/plain": [
       "60.09513312903936"
      ]
     },
     "execution_count": 13,
     "metadata": {},
     "output_type": "execute_result"
    }
   ],
   "source": [
    "from sklearn.metrics import mean_absolute_error\n",
    "mean_absolute_error(pred,labels)"
   ]
  },
  {
   "cell_type": "code",
   "execution_count": 14,
   "metadata": {},
   "outputs": [
    {
     "data": {
      "text/plain": [
       "<matplotlib.collections.PathCollection at 0x230ef4057c0>"
      ]
     },
     "execution_count": 14,
     "metadata": {},
     "output_type": "execute_result"
    },
    {
     "data": {
      "image/png": "[encoded data removed]",
      "text/plain": [
       "<Figure size 640x480 with 1 Axes>"
      ]
     },
     "metadata": {},
     "output_type": "display_data"
    }
   ],
   "source": [
    "import matplotlib.pyplot as plt\n",
    "plt.scatter(pred, labels)"
   ]
  },
  {
   "cell_type": "code",
   "execution_count": null,
   "metadata": {},
   "outputs": [],
   "source": []
  },
  {
   "cell_type": "code",
   "execution_count": null,
   "metadata": {},
   "outputs": [],
   "source": []
  }
 ],
 "metadata": {
  "kernelspec": {
   "display_name": "colon",
   "language": "python",
   "name": "python3"
  },
  "language_info": {
   "codemirror_mode": {
    "name": "ipython",
    "version": 3
   },
   "file_extension": ".py",
   "mimetype": "text/x-python",
   "name": "python",
   "nbconvert_exporter": "python",
   "pygments_lexer": "ipython3",
   "version": "3.9.16"
  },
  "orig_nbformat": 4
 },
 "nbformat": 4,
 "nbformat_minor": 2
}
